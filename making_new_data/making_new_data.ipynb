{
 "cells": [
  {
   "cell_type": "code",
   "execution_count": 1,
   "metadata": {},
   "outputs": [],
   "source": [
    "import pandas as pd\n",
    "import re\n"
   ]
  },
  {
   "cell_type": "code",
   "execution_count": 2,
   "metadata": {},
   "outputs": [
    {
     "data": {
      "text/html": [
       "<div>\n",
       "<style scoped>\n",
       "    .dataframe tbody tr th:only-of-type {\n",
       "        vertical-align: middle;\n",
       "    }\n",
       "\n",
       "    .dataframe tbody tr th {\n",
       "        vertical-align: top;\n",
       "    }\n",
       "\n",
       "    .dataframe thead th {\n",
       "        text-align: right;\n",
       "    }\n",
       "</style>\n",
       "<table border=\"1\" class=\"dataframe\">\n",
       "  <thead>\n",
       "    <tr style=\"text-align: right;\">\n",
       "      <th></th>\n",
       "      <th>first_name</th>\n",
       "      <th>last_name</th>\n",
       "      <th>company_name</th>\n",
       "      <th>address</th>\n",
       "      <th>city</th>\n",
       "      <th>county</th>\n",
       "      <th>state</th>\n",
       "      <th>zip</th>\n",
       "      <th>phone1</th>\n",
       "      <th>phone2</th>\n",
       "      <th>email</th>\n",
       "      <th>web</th>\n",
       "    </tr>\n",
       "  </thead>\n",
       "  <tbody>\n",
       "    <tr>\n",
       "      <th>0</th>\n",
       "      <td>James</td>\n",
       "      <td>Butt</td>\n",
       "      <td>Benton, John B Jr</td>\n",
       "      <td>6649 N Blue Gum St</td>\n",
       "      <td>New Orleans</td>\n",
       "      <td>Orleans</td>\n",
       "      <td>LA</td>\n",
       "      <td>70116</td>\n",
       "      <td>504-621-8927</td>\n",
       "      <td>504-845-1427</td>\n",
       "      <td>jbutt@gmail.com</td>\n",
       "      <td>http://www.bentonjohnbjr.com</td>\n",
       "    </tr>\n",
       "    <tr>\n",
       "      <th>1</th>\n",
       "      <td>Josephine</td>\n",
       "      <td>Darakjy</td>\n",
       "      <td>Chanay, Jeffrey A Esq</td>\n",
       "      <td>4 B Blue Ridge Blvd</td>\n",
       "      <td>Brighton</td>\n",
       "      <td>Livingston</td>\n",
       "      <td>MI</td>\n",
       "      <td>48116</td>\n",
       "      <td>810-292-9388</td>\n",
       "      <td>810-374-9840</td>\n",
       "      <td>josephine_darakjy@darakjy.org</td>\n",
       "      <td>http://www.chanayjeffreyaesq.com</td>\n",
       "    </tr>\n",
       "    <tr>\n",
       "      <th>2</th>\n",
       "      <td>Art</td>\n",
       "      <td>Venere</td>\n",
       "      <td>Chemel, James L Cpa</td>\n",
       "      <td>8 W Cerritos Ave #54</td>\n",
       "      <td>Bridgeport</td>\n",
       "      <td>Gloucester</td>\n",
       "      <td>NJ</td>\n",
       "      <td>8014</td>\n",
       "      <td>856-636-8749</td>\n",
       "      <td>856-264-4130</td>\n",
       "      <td>art@venere.org</td>\n",
       "      <td>http://www.chemeljameslcpa.com</td>\n",
       "    </tr>\n",
       "    <tr>\n",
       "      <th>3</th>\n",
       "      <td>Lenna</td>\n",
       "      <td>Paprocki</td>\n",
       "      <td>Feltz Printing Service</td>\n",
       "      <td>639 Main St</td>\n",
       "      <td>Anchorage</td>\n",
       "      <td>Anchorage</td>\n",
       "      <td>AK</td>\n",
       "      <td>99501</td>\n",
       "      <td>907-385-4412</td>\n",
       "      <td>907-921-2010</td>\n",
       "      <td>lpaprocki@hotmail.com</td>\n",
       "      <td>http://www.feltzprintingservice.com</td>\n",
       "    </tr>\n",
       "    <tr>\n",
       "      <th>4</th>\n",
       "      <td>Donette</td>\n",
       "      <td>Foller</td>\n",
       "      <td>Printing Dimensions</td>\n",
       "      <td>34 Center St</td>\n",
       "      <td>Hamilton</td>\n",
       "      <td>Butler</td>\n",
       "      <td>OH</td>\n",
       "      <td>45011</td>\n",
       "      <td>513-570-1893</td>\n",
       "      <td>513-549-4561</td>\n",
       "      <td>donette.foller@cox.net</td>\n",
       "      <td>http://www.printingdimensions.com</td>\n",
       "    </tr>\n",
       "    <tr>\n",
       "      <th>...</th>\n",
       "      <td>...</td>\n",
       "      <td>...</td>\n",
       "      <td>...</td>\n",
       "      <td>...</td>\n",
       "      <td>...</td>\n",
       "      <td>...</td>\n",
       "      <td>...</td>\n",
       "      <td>...</td>\n",
       "      <td>...</td>\n",
       "      <td>...</td>\n",
       "      <td>...</td>\n",
       "      <td>...</td>\n",
       "    </tr>\n",
       "    <tr>\n",
       "      <th>495</th>\n",
       "      <td>Brittni</td>\n",
       "      <td>Gillaspie</td>\n",
       "      <td>Inner Label</td>\n",
       "      <td>67 Rv Cent</td>\n",
       "      <td>Boise</td>\n",
       "      <td>Ada</td>\n",
       "      <td>ID</td>\n",
       "      <td>83709</td>\n",
       "      <td>208-709-1235</td>\n",
       "      <td>208-206-9848</td>\n",
       "      <td>bgillaspie@gillaspie.com</td>\n",
       "      <td>http://www.innerlabel.com</td>\n",
       "    </tr>\n",
       "    <tr>\n",
       "      <th>496</th>\n",
       "      <td>Raylene</td>\n",
       "      <td>Kampa</td>\n",
       "      <td>Hermar Inc</td>\n",
       "      <td>2 Sw Nyberg Rd</td>\n",
       "      <td>Elkhart</td>\n",
       "      <td>Elkhart</td>\n",
       "      <td>IN</td>\n",
       "      <td>46514</td>\n",
       "      <td>574-499-1454</td>\n",
       "      <td>574-330-1884</td>\n",
       "      <td>rkampa@kampa.org</td>\n",
       "      <td>http://www.hermarinc.com</td>\n",
       "    </tr>\n",
       "    <tr>\n",
       "      <th>497</th>\n",
       "      <td>Flo</td>\n",
       "      <td>Bookamer</td>\n",
       "      <td>Simonton Howe &amp; Schneider Pc</td>\n",
       "      <td>89992 E 15th St</td>\n",
       "      <td>Alliance</td>\n",
       "      <td>Box Butte</td>\n",
       "      <td>NE</td>\n",
       "      <td>69301</td>\n",
       "      <td>308-726-2182</td>\n",
       "      <td>308-250-6987</td>\n",
       "      <td>flo.bookamer@cox.net</td>\n",
       "      <td>http://www.simontonhoweschneiderpc.com</td>\n",
       "    </tr>\n",
       "    <tr>\n",
       "      <th>498</th>\n",
       "      <td>Jani</td>\n",
       "      <td>Biddy</td>\n",
       "      <td>Warehouse Office &amp; Paper Prod</td>\n",
       "      <td>61556 W 20th Ave</td>\n",
       "      <td>Seattle</td>\n",
       "      <td>King</td>\n",
       "      <td>WA</td>\n",
       "      <td>98104</td>\n",
       "      <td>206-711-6498</td>\n",
       "      <td>206-395-6284</td>\n",
       "      <td>jbiddy@yahoo.com</td>\n",
       "      <td>http://www.warehouseofficepaperprod.com</td>\n",
       "    </tr>\n",
       "    <tr>\n",
       "      <th>499</th>\n",
       "      <td>Chauncey</td>\n",
       "      <td>Motley</td>\n",
       "      <td>Affiliated With Travelodge</td>\n",
       "      <td>63 E Aurora Dr</td>\n",
       "      <td>Orlando</td>\n",
       "      <td>Orange</td>\n",
       "      <td>FL</td>\n",
       "      <td>32804</td>\n",
       "      <td>407-413-4842</td>\n",
       "      <td>407-557-8857</td>\n",
       "      <td>chauncey_motley@aol.com</td>\n",
       "      <td>http://www.affiliatedwithtravelodge.com</td>\n",
       "    </tr>\n",
       "  </tbody>\n",
       "</table>\n",
       "<p>500 rows × 12 columns</p>\n",
       "</div>"
      ],
      "text/plain": [
       "    first_name  last_name                   company_name  \\\n",
       "0        James       Butt              Benton, John B Jr   \n",
       "1    Josephine    Darakjy          Chanay, Jeffrey A Esq   \n",
       "2          Art     Venere            Chemel, James L Cpa   \n",
       "3        Lenna   Paprocki         Feltz Printing Service   \n",
       "4      Donette     Foller            Printing Dimensions   \n",
       "..         ...        ...                            ...   \n",
       "495    Brittni  Gillaspie                    Inner Label   \n",
       "496    Raylene      Kampa                     Hermar Inc   \n",
       "497        Flo   Bookamer   Simonton Howe & Schneider Pc   \n",
       "498       Jani      Biddy  Warehouse Office & Paper Prod   \n",
       "499   Chauncey     Motley     Affiliated With Travelodge   \n",
       "\n",
       "                  address         city      county state    zip        phone1  \\\n",
       "0      6649 N Blue Gum St  New Orleans     Orleans    LA  70116  504-621-8927   \n",
       "1     4 B Blue Ridge Blvd     Brighton  Livingston    MI  48116  810-292-9388   \n",
       "2    8 W Cerritos Ave #54   Bridgeport  Gloucester    NJ   8014  856-636-8749   \n",
       "3             639 Main St    Anchorage   Anchorage    AK  99501  907-385-4412   \n",
       "4            34 Center St     Hamilton      Butler    OH  45011  513-570-1893   \n",
       "..                    ...          ...         ...   ...    ...           ...   \n",
       "495            67 Rv Cent        Boise         Ada    ID  83709  208-709-1235   \n",
       "496        2 Sw Nyberg Rd      Elkhart     Elkhart    IN  46514  574-499-1454   \n",
       "497       89992 E 15th St     Alliance   Box Butte    NE  69301  308-726-2182   \n",
       "498      61556 W 20th Ave      Seattle        King    WA  98104  206-711-6498   \n",
       "499        63 E Aurora Dr      Orlando      Orange    FL  32804  407-413-4842   \n",
       "\n",
       "           phone2                          email  \\\n",
       "0    504-845-1427                jbutt@gmail.com   \n",
       "1    810-374-9840  josephine_darakjy@darakjy.org   \n",
       "2    856-264-4130                 art@venere.org   \n",
       "3    907-921-2010          lpaprocki@hotmail.com   \n",
       "4    513-549-4561         donette.foller@cox.net   \n",
       "..            ...                            ...   \n",
       "495  208-206-9848       bgillaspie@gillaspie.com   \n",
       "496  574-330-1884               rkampa@kampa.org   \n",
       "497  308-250-6987           flo.bookamer@cox.net   \n",
       "498  206-395-6284               jbiddy@yahoo.com   \n",
       "499  407-557-8857        chauncey_motley@aol.com   \n",
       "\n",
       "                                         web  \n",
       "0               http://www.bentonjohnbjr.com  \n",
       "1           http://www.chanayjeffreyaesq.com  \n",
       "2             http://www.chemeljameslcpa.com  \n",
       "3        http://www.feltzprintingservice.com  \n",
       "4          http://www.printingdimensions.com  \n",
       "..                                       ...  \n",
       "495                http://www.innerlabel.com  \n",
       "496                 http://www.hermarinc.com  \n",
       "497   http://www.simontonhoweschneiderpc.com  \n",
       "498  http://www.warehouseofficepaperprod.com  \n",
       "499  http://www.affiliatedwithtravelodge.com  \n",
       "\n",
       "[500 rows x 12 columns]"
      ]
     },
     "metadata": {},
     "output_type": "display_data"
    }
   ],
   "source": [
    "contacts_df = pd.read_csv('/Users/michaelbarski/Desktop/personal_projects/contact-company-matching-poc/making_new_data/us-500.csv')\n",
    "\n",
    "display(contacts_df)"
   ]
  },
  {
   "cell_type": "code",
   "execution_count": 3,
   "metadata": {},
   "outputs": [],
   "source": [
    "contacts_df['company_name'] = contacts_df['company_name'].str.lower()\n",
    "\n",
    "company_names = list(contacts_df.company_name)\n",
    "\n",
    "company_names_with_suffixes = []\n",
    "for i in company_names:\n",
    "    if i.endswith('inc') or i.endswith('ltd') or i.endswith('cpa') or i.endswith('esq') or i.endswith(' co') or i.endswith(' corp'):\n",
    "        company_names_with_suffixes.append(i)\n",
    "\n",
    "# print(company_names_with_suffixes)\n",
    "\n"
   ]
  },
  {
   "cell_type": "markdown",
   "metadata": {},
   "source": [
    "if the company name is in the suffixes list, take that name and remove the suffix. Maybe it would be easier to split this operation up into smaller pieces. \n"
   ]
  },
  {
   "cell_type": "code",
   "execution_count": 4,
   "metadata": {},
   "outputs": [],
   "source": [
    "reformatted_company_names = []\n",
    "for name in company_names:\n",
    "    if name in company_names_with_suffixes and (\n",
    "        name.endswith(' inc') or\n",
    "        name.endswith(' ltd') or \n",
    "        name.endswith(' cpa') or \n",
    "        name.endswith(' esq')):\n",
    "\n",
    "        reformatted_company_names.append(name[:-4])\n",
    "\n",
    "    elif name in company_names_with_suffixes and name.endswith(' co'):\n",
    "        reformatted_company_names.append(name[:-3])\n",
    "    elif name in company_names_with_suffixes and name.endswith(' corp'):\n",
    "        reformatted_company_names.append(name[:-5])\n",
    "    else:\n",
    "        reformatted_company_names.append(name)\n",
    "\n",
    "reformatted_company_names = pd.Series(reformatted_company_names)"
   ]
  },
  {
   "cell_type": "markdown",
   "metadata": {},
   "source": [
    "below I'm creating a reformatted url series and creating another series that contains subdomains"
   ]
  },
  {
   "cell_type": "markdown",
   "metadata": {},
   "source": [
    "we'll attempt to make urls in the following way:\n",
    "- we'll make a copy of reformatted company_names\n",
    "- we'll get rid of all of the white space and all of the special characters (, . ) \n",
    "- then we'll all '.com' to the end and replace the web column with contacts_df['company_url'] = better_urls\n",
    "- last we'll have to think a little bit about integration with the downstream code; we added subdomains and spelling errors to each url."
   ]
  },
  {
   "cell_type": "code",
   "execution_count": 5,
   "metadata": {},
   "outputs": [],
   "source": [
    "better_urls = reformatted_company_names.copy()\n",
    "pattern = re.compile(r'\\W|\\s')\n",
    "\n",
    "better_urls = better_urls.str.replace(pattern, '')\n",
    "better_urls = better_urls.astype(str) + '.com'\n",
    "\n",
    "contacts_df['company_url'] = better_urls\n"
   ]
  },
  {
   "cell_type": "code",
   "execution_count": 6,
   "metadata": {},
   "outputs": [
    {
     "name": "stdout",
     "output_type": "stream",
     "text": [
      "['store.stanleyrichardl.com', 'support.merrilllynch.com', 'store.changcarolyn.com', 'support.germerandgertzllp.com', 'store.unitedoilco.com', 'support.maccanidelp.com', 'store.kbor1600am.com', 'support.rodewayinn.com', 'store.delcharroapartments.com', 'support.nagledanielj.com', 'store.matriccianialbertjjr.com', 'support.upullit.com', 'store.olympicgraphicarts.com', 'support.breslereitelframggllry.com', 'store.rolandashcroft.com', 'support.centerlineengineering.com', 'store.mitsumielectronics.com', 'support.garrisonind.com', 'store.barkannealj.com', 'support.feinerbros.com']\n"
     ]
    }
   ],
   "source": [
    "urls = contacts_df.company_url\n",
    "adding_subdomains = urls.sample(20)\n",
    "\n",
    "with_subdomains = []\n",
    "for i,value in enumerate(adding_subdomains):\n",
    "    if i%2:\n",
    "        value = f\"support.{value}\"\n",
    "        with_subdomains.append(value)\n",
    "    else:\n",
    "        value = f\"store.{value}\"\n",
    "        with_subdomains.append(value)\n",
    "\n",
    "\n",
    "print(with_subdomains)"
   ]
  },
  {
   "cell_type": "markdown",
   "metadata": {},
   "source": [
    "Here I'm replacing the version of the url that does not have the subdomain with the version that does"
   ]
  },
  {
   "cell_type": "code",
   "execution_count": 7,
   "metadata": {},
   "outputs": [],
   "source": [
    "altered_urls = urls.copy()\n",
    "for i in altered_urls:\n",
    "    for j in with_subdomains:\n",
    "        if i in j:\n",
    "            altered_urls.replace(i,j, inplace=True)\n",
    "\n"
   ]
  },
  {
   "cell_type": "markdown",
   "metadata": {},
   "source": [
    "adding typos to make it so we can't match on url alone"
   ]
  },
  {
   "cell_type": "code",
   "execution_count": 8,
   "metadata": {},
   "outputs": [
    {
     "name": "stdout",
     "output_type": "stream",
     "text": [
      "['arrisonpaule.com', 'lenridgemanormobilehomepk.com', 'eutelschiescompany.com', 'upport.garrisonind.com', 'orlongassociates.com', 'iconcorporation.com', 'urrowsjonh.com', 'oyalpontiacolds.com', 'eramictilesales.com', 'ioruccifoodsusa.com', 'disonsupplyequipment.com', 'usinesssystemsofwis.com', 'entraldiecastingmfgco.com', 'ampbellroberta.com', 'yeeproductions.com', 'ellskravitzschnitzer.com', 'allacechurchassoc.com', 'auiresearchtechnologypk.com', 'heatonplasticproducts.com', 'ricebusinessservices.com', 'ranz.com', 'linabal.com', 'erkroberte.com', 'umminssouthernplains.com', 'hanayjeffreya.com', 'terocompany.com', 'hompsonfabricating.com', 'bsbusinessfinance.com', 'loralexpressions.com', 'heatleytruckingcompany.com', 'orestfirelaboratory.com', 'hankedwardl.com', 'wiggsabramsblanchard.com', 'enbrookmyron.com', 'tuartjagins.com', 'oloveroberta.com', 'tore.changcarolyn.com', 'lpenlite.com', 'eneralfoamcorporation.com', 'cglynnblisspc.com']\n"
     ]
    }
   ],
   "source": [
    "typo_urls = altered_urls.sample(40)\n",
    "typo_urls = [i[1:] for i in typo_urls]\n",
    "\n",
    "for i in altered_urls:\n",
    "    for j in typo_urls:\n",
    "        if j in i:\n",
    "            altered_urls.replace(i,j, inplace=True)\n",
    "\n",
    "print(typo_urls)"
   ]
  },
  {
   "cell_type": "markdown",
   "metadata": {},
   "source": [
    "adding random revenues and tech for each company"
   ]
  },
  {
   "cell_type": "code",
   "execution_count": null,
   "metadata": {},
   "outputs": [],
   "source": [
    "import random\n",
    "\n",
    "random_revenues = pd.Series([random.randint(5000000,1000000000) for i in urls])\n",
    "\n",
    "tech_list = ['shopify', 'amazon pay', 'salesforce', 'zendesk', 'bigcommerce', 'hubspot', 'marketo', 'google analytics']\n",
    "\n",
    "random_techs = pd.Series([random.choice(tech_list) for i in urls])"
   ]
  },
  {
   "cell_type": "markdown",
   "metadata": {},
   "source": [
    "Here I'll start making my new dataframes using some pieces of the old ones"
   ]
  },
  {
   "cell_type": "code",
   "execution_count": null,
   "metadata": {},
   "outputs": [],
   "source": [
    "exported_contacts_df = contacts_df.drop(['phone1', 'phone2', 'web'], axis=1)\n",
    "exported_contacts_df['company_name'] = reformatted_company_names\n",
    "\n",
    "company_data_df = pd.DataFrame({'company_name':contacts_df.company_name, 'company_url':altered_urls, 'revenue':random_revenues, 'current_tech_use':random_techs})\n",
    "\n"
   ]
  },
  {
   "cell_type": "markdown",
   "metadata": {},
   "source": [
    "make a new list of company names and company new urls from the exported_contacts:\n",
    "change these lists to only be 100 in length (instead of 500) -- could also make a new df\n",
    "then repeat each name 5 times or append or add the list to itself to get 500 again (with each company name and company url repeated 5 times)"
   ]
  },
  {
   "cell_type": "code",
   "execution_count": null,
   "metadata": {},
   "outputs": [],
   "source": [
    "fixing_names_df = exported_contacts_df[['company_name', 'company_url']]\n",
    "fixing_names_df = fixing_names_df.iloc[:100,:]\n",
    "redoing_companies_to_contacts = fixing_names_df.loc[fixing_names_df.index.repeat(5)].reset_index(drop=True)\n",
    "\n",
    "new_exported_contacts_df = exported_contacts_df.copy()\n",
    "\n",
    "new_exported_contacts_df['company_name'] = redoing_companies_to_contacts.company_name\n",
    "new_exported_contacts_df['company_url'] = redoing_companies_to_contacts.company_url\n",
    "\n",
    "new_exported_contacts_df.drop_duplicates(['email'], inplace=True)"
   ]
  },
  {
   "cell_type": "code",
   "execution_count": null,
   "metadata": {},
   "outputs": [],
   "source": [
    "new_exported_contacts_df.to_csv('new_exported_contacts.csv', index=False)\n",
    "company_data_df.to_csv('company_data.csv', index=False)"
   ]
  }
 ],
 "metadata": {
  "kernelspec": {
   "display_name": "Python 3.9.6 64-bit",
   "language": "python",
   "name": "python3"
  },
  "language_info": {
   "codemirror_mode": {
    "name": "ipython",
    "version": 3
   },
   "file_extension": ".py",
   "mimetype": "text/x-python",
   "name": "python",
   "nbconvert_exporter": "python",
   "pygments_lexer": "ipython3",
   "version": "3.9.6"
  },
  "orig_nbformat": 4,
  "vscode": {
   "interpreter": {
    "hash": "aee8b7b246df8f9039afb4144a1f6fd8d2ca17a180786b69acc140d282b71a49"
   }
  }
 },
 "nbformat": 4,
 "nbformat_minor": 2
}
